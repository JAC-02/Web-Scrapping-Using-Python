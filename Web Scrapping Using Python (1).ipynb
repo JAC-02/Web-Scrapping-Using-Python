{
 "cells": [
  {
   "cell_type": "markdown",
   "metadata": {},
   "source": [
    "The Python Libary I will use for this exercise is Known as Beautiful Soup. BeautifulSoup is commonly used to parse data from XML and HTML documents. Organizing this parsed content into more accessible trees, BeautifulSoup makes navigating and searching through large swathes of data much easier. It’s the go-to tool for many data analysts."
   ]
  },
  {
   "cell_type": "code",
   "execution_count": 2,
   "metadata": {},
   "outputs": [
    {
     "name": "stdout",
     "output_type": "stream",
     "text": [
      "['3 bedroom flat / apartment for rent', ' \\xa0Off Sobo Arobiodu Street, Ikeja GRA, Ikeja, Lagos', '₦7,500,000 per annum ']\n",
      "['Self contain (single rooms) for rent', ' \\xa0Roxbury Estate, By Oando Fuel Station, Opposite Vgc, Lekki, Lagos', '₦900,000 per annum ']\n",
      "['2 bedroom flat / apartment for rent', ' \\xa0Opposite Green Springs School By Container Bus Stop, Awoyaya, Ibeju Lekki, Lagos', '₦850,000 per annum ']\n",
      "['1 bedroom mini flat (room and parlour) for rent', ' \\xa0Lekki Right, Oniru Side Of Lekki, Lekki Phase 1, Lekki, Lagos', '₦1,500,000 per annum ']\n",
      "['3 bedroom flat / apartment for rent', ' \\xa0Lekki Phase 1, Lekki, Lagos', '₦5,000,000 per annum ']\n",
      "['3 bedroom flat / apartment for rent', ' \\xa0Lekki Phase 1, Lekki, Lagos', '₦5,000,000 per annum ']\n",
      "['1 bedroom mini flat (room and parlour) for rent', ' \\xa0Lekki Phase 1, Lekki, Lagos', '₦3,300,000 per annum ']\n",
      "['2 bedroom flat / apartment for rent', ' \\xa0Marshy Hill Estate, Ajah, Lagos', '₦800,000 per annum ']\n",
      "['2 bedroom flat / apartment for rent', ' \\xa0Lekki Phase 1, Lekki, Lagos', '₦4,000,000 per annum ']\n",
      "['4 bedroom flat / apartment for rent', ' \\xa0Marshy Hill Estate, Ajah, Lagos', '₦2,000,000 per annum ']\n",
      "['2 bedroom flat / apartment for rent', ' \\xa0Lekki Phase 1, Lekki, Lagos', '₦4,000,000 per annum ']\n",
      "['3 bedroom flat / apartment for rent', ' \\xa0Banana Island, Ikoyi, Lagos', '₦10,000,000 per annum ']\n",
      "['2 bedroom flat / apartment for rent', ' \\xa0Magodo Phase 1, GRA Phase 1, Magodo, Lagos', '₦1,350,000 per annum ']\n",
      "['2 bedroom flat / apartment for rent', ' \\xa0Off Admiralty Way, Lekki Phase 1, Lekki, Lagos', '₦4,300,000 per annum ']\n",
      "['2 bedroom flat / apartment for rent', ' \\xa0Lekki Palm City Estate, Ajah, Lagos', '₦1,500,000 per annum ']\n",
      "['3 bedroom flat / apartment for rent', ' \\xa0Lekki Phase 1, Lekki, Lagos', '₦6,000,000 per annum ']\n",
      "['2 bedroom flat / apartment for rent', ' \\xa0Lekki Phase 1, Lekki, Lagos', '₦6,000,000 per annum ']\n",
      "['3 bedroom flat / apartment for rent', ' \\xa0Osapa London, Lekki, Lagos, Lekki, Lagos', '₦8,000,000 per annum ']\n",
      "['3 bedroom flat / apartment for rent', ' \\xa0Lekki Phase 1, Lekki, Lagos', '₦4,000,000 per annum ']\n",
      "['3 bedroom flat / apartment for rent', ' \\xa0Oniru, Victoria Island (VI), Lagos', '₦5,000,000 per annum ']\n",
      "['3 bedroom flat / apartment for rent', ' \\xa0Paradise Estate, Chevron Drive, Lekki , Lagos, Lekki, Lagos', '₦4,000,000 per annum ']\n"
     ]
    }
   ],
   "source": [
    "from bs4 import BeautifulSoup\n",
    "import requests #\n",
    "from csv import writer \n",
    "\n",
    "'''\n",
    "you may encounter few errors if these libaries are not installed. If you do, simply use pip to install.\n",
    "\n",
    "!pip install BeautifulSoup\n",
    "\n",
    "!pip install requests\n",
    "\n",
    "'''\n",
    "\n",
    "url = \"https://nigeriapropertycentre.com/for-rent/flats-apartments/lagos/showtype?gclid=Cj0KCQjworiXBhDJARIsAMuzAuzsjliytrKCQUWynjzo-Rv9rSdi9mHbWNTGynIs54NVbvxS2JODptwaAhn-EALw_wcB\"\n",
    "\n",
    "page = requests.get(url) #grabs data from it source to your editor or jupyter notebook.\n",
    "\n",
    "soup = BeautifulSoup(page.content, 'html.parser')\n",
    "lists = soup.find_all('div', class_= \"wp-block property list\") #this is the mother div and class that has the section information\n",
    "\n",
    " # This function writes the extracted data into a csv format\n",
    "with open('LagosApartment.csv', 'w', encoding='utf8', newline='') as f:\n",
    "    thewriter = writer(f)\n",
    "    header = ['Description ', 'Location', 'Price', 'Duration']\n",
    "    thewriter.writerow(header)\n",
    "    \n",
    "    #The for loop is used to get similar information from all the sections\n",
    "    for list in lists:\n",
    "        title = list.find('h4', class_=\"content-title\").text.replace('\\n', '')\n",
    "        address  = list.find('address', class_=\"voffset-bottom-10\").text.replace('\\n', '')\n",
    "        price = list.find('span', class_=\"pull-sm-left\").text.replace('\\n', '')\n",
    "        info = [title, address, price]\n",
    "        thewriter.writerow(info)\n",
    "        print(info)\n",
    "        \n",
    "\n",
    "       \n",
    "    "
   ]
  },
  {
   "cell_type": "code",
   "execution_count": null,
   "metadata": {},
   "outputs": [],
   "source": []
  }
 ],
 "metadata": {
  "kernelspec": {
   "display_name": "Python 3",
   "language": "python",
   "name": "python3"
  },
  "language_info": {
   "codemirror_mode": {
    "name": "ipython",
    "version": 3
   },
   "file_extension": ".py",
   "mimetype": "text/x-python",
   "name": "python",
   "nbconvert_exporter": "python",
   "pygments_lexer": "ipython3",
   "version": "3.7.6"
  }
 },
 "nbformat": 4,
 "nbformat_minor": 4
}
